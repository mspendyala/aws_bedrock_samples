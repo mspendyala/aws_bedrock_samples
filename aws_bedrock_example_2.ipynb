{
  "nbformat": 4,
  "nbformat_minor": 0,
  "metadata": {
    "colab": {
      "provenance": [],
      "authorship_tag": "ABX9TyPnkdGJyqqpuf/yNl0T/Xtb",
      "include_colab_link": true
    },
    "kernelspec": {
      "name": "python3",
      "display_name": "Python 3"
    },
    "language_info": {
      "name": "python"
    }
  },
  "cells": [
    {
      "cell_type": "markdown",
      "metadata": {
        "id": "view-in-github",
        "colab_type": "text"
      },
      "source": [
        "<a href=\"https://colab.research.google.com/github/mspendyala/aws_bedrock_samples/blob/main/aws_bedrock_example_2.ipynb\" target=\"_parent\"><img src=\"https://colab.research.google.com/assets/colab-badge.svg\" alt=\"Open In Colab\"/></a>"
      ]
    },
    {
      "cell_type": "code",
      "source": [
        "!pip install boto3\n"
      ],
      "metadata": {
        "colab": {
          "base_uri": "https://localhost:8080/"
        },
        "id": "oaLVBi1FaMNq",
        "outputId": "4fda5cfb-c26c-4baf-84fc-2a679689f84c"
      },
      "execution_count": null,
      "outputs": [
        {
          "output_type": "stream",
          "name": "stdout",
          "text": [
            "Collecting boto3\n",
            "  Downloading boto3-1.36.23-py3-none-any.whl.metadata (6.7 kB)\n",
            "Collecting botocore<1.37.0,>=1.36.23 (from boto3)\n",
            "  Downloading botocore-1.36.23-py3-none-any.whl.metadata (5.7 kB)\n",
            "Collecting jmespath<2.0.0,>=0.7.1 (from boto3)\n",
            "  Downloading jmespath-1.0.1-py3-none-any.whl.metadata (7.6 kB)\n",
            "Collecting s3transfer<0.12.0,>=0.11.0 (from boto3)\n",
            "  Downloading s3transfer-0.11.2-py3-none-any.whl.metadata (1.7 kB)\n",
            "Requirement already satisfied: python-dateutil<3.0.0,>=2.1 in /usr/local/lib/python3.11/dist-packages (from botocore<1.37.0,>=1.36.23->boto3) (2.8.2)\n",
            "Requirement already satisfied: urllib3!=2.2.0,<3,>=1.25.4 in /usr/local/lib/python3.11/dist-packages (from botocore<1.37.0,>=1.36.23->boto3) (2.3.0)\n",
            "Requirement already satisfied: six>=1.5 in /usr/local/lib/python3.11/dist-packages (from python-dateutil<3.0.0,>=2.1->botocore<1.37.0,>=1.36.23->boto3) (1.17.0)\n",
            "Downloading boto3-1.36.23-py3-none-any.whl (139 kB)\n",
            "\u001b[2K   \u001b[90m━━━━━━━━━━━━━━━━━━━━━━━━━━━━━━━━━━━━━━━━\u001b[0m \u001b[32m139.2/139.2 kB\u001b[0m \u001b[31m3.5 MB/s\u001b[0m eta \u001b[36m0:00:00\u001b[0m\n",
            "\u001b[?25hDownloading botocore-1.36.23-py3-none-any.whl (13.4 MB)\n",
            "\u001b[2K   \u001b[90m━━━━━━━━━━━━━━━━━━━━━━━━━━━━━━━━━━━━━━━━\u001b[0m \u001b[32m13.4/13.4 MB\u001b[0m \u001b[31m86.2 MB/s\u001b[0m eta \u001b[36m0:00:00\u001b[0m\n",
            "\u001b[?25hDownloading jmespath-1.0.1-py3-none-any.whl (20 kB)\n",
            "Downloading s3transfer-0.11.2-py3-none-any.whl (84 kB)\n",
            "\u001b[2K   \u001b[90m━━━━━━━━━━━━━━━━━━━━━━━━━━━━━━━━━━━━━━━━\u001b[0m \u001b[32m84.2/84.2 kB\u001b[0m \u001b[31m7.3 MB/s\u001b[0m eta \u001b[36m0:00:00\u001b[0m\n",
            "\u001b[?25hInstalling collected packages: jmespath, botocore, s3transfer, boto3\n",
            "Successfully installed boto3-1.36.23 botocore-1.36.23 jmespath-1.0.1 s3transfer-0.11.2\n"
          ]
        }
      ]
    },
    {
      "cell_type": "code",
      "source": [
        "import os\n",
        "\n",
        "# Replace with your AWS credentials (use temporary credentials if possible)\n",
        "os.environ[\"AWS_ACCESS_KEY_ID\"] = \"\"\n",
        "os.environ[\"AWS_SECRET_ACCESS_KEY\"] = \"\"\n",
        "os.environ[\"AWS_REGION\"] = \"us-east-1\"\n",
        "\n",
        "print(\"AWS credentials configured securely in Colab!\")"
      ],
      "metadata": {
        "id": "XgFnJlsOcUKN"
      },
      "execution_count": null,
      "outputs": []
    },
    {
      "cell_type": "code",
      "execution_count": null,
      "metadata": {
        "colab": {
          "base_uri": "https://localhost:8080/"
        },
        "id": "nTMgP7HKaDz8",
        "outputId": "d93d4d25-7a65-4b9f-9c0a-20f9137d87e4"
      },
      "outputs": [
        {
          "output_type": "stream",
          "name": "stdout",
          "text": [
            "\n",
            "🔹 **Vanilla Bedrock Response:**\n",
            " Here are some of the top places to visit in Paris:\n",
            "\n",
            "- Eiffel Tower - The iconic iron lattice tower is one of the most recognizable structures in the world. Be sure to book tickets in advance.\n",
            "\n",
            "- Notre Dame Cathedral - This Gothic cathedral is famous for its rose windows, flying buttresses and gargoyle statues. \n",
            "\n",
            "- Louvre Museum - Home to one of the largest art collections in the world, including the Mona Lisa. Allow at least half a day to see some of the highlights.\n",
            "\n",
            "- Arc de Triomphe - This iconic arch stands at the western end of the Champs-Elysées. You can glimpse down the grand boulevard from the top.\n",
            "\n",
            "- Palace of Versailles - A opulent palace and estate just outside Paris that was once home to French monarchs. Plan at least a full day trip.\n",
            "\n",
            "- Champs-Elysées - Paris' most famous avenue lined with stores, cinemas, restaurants and gardens. Great for people watching.\n",
            "\n",
            "- Jardin du Luxembourg - These beautiful French gardens are a lovely place to relax within the historic district of Saint-Germain.  \n",
            "\n",
            "- Notre Dame Cathedral\n",
            "\n",
            "🔹 **RAG-Enhanced Response (Using S3):**\n",
            " Based on the information provided, the best places to visit in Paris are:\n",
            "\n",
            "- Eiffel Tower: Iconic landmark that offers panoramic views of the city from its platforms. A must-see attraction.\n",
            "\n",
            "- Louvre Museum: Home to one of the largest art collections in the world, including the famous Mona Lisa painting. Spend at least a full day exploring this palace turned museum.  \n",
            "\n",
            "- Notre-Dame Cathedral: Medieval Gothic cathedral and architectural marvel dating back to the 13th century. Be sure to visit during choir practice to hear its beautiful acoustics.\n",
            "\n",
            "- Champs-Élysées: Famous avenue stretching from the Arc de Triomphe to Place de la Concorde, lined with shops, cafes and landmarks. Great for people watching.\n",
            "\n",
            "- Seine River Cruise: Leisurely boat tour providing scenic views of landmarks along the banks of the Seine like Notre-Dame, Eiffel Tower and Louvre. \n",
            "\n",
            "So in summary, the Eiffel Tower, Louvre Museum, Notre-Dame Cathedral, Champs-Élysées and taking a Seine River Cruise are considered the top\n"
          ]
        }
      ],
      "source": [
        "import boto3\n",
        "import json\n",
        "import os\n",
        "from botocore.exceptions import NoCredentialsError, ClientError\n",
        "\n",
        "# Load AWS credentials from environment variables (Google Colab or local)\n",
        "aws_access_key = os.getenv(\"AWS_ACCESS_KEY_ID\")\n",
        "aws_secret_key = os.getenv(\"AWS_SECRET_ACCESS_KEY\")\n",
        "aws_session_token = os.getenv(\"AWS_SESSION_TOKEN\")\n",
        "aws_region = os.getenv(\"AWS_REGION\", \"us-east-1\")\n",
        "\n",
        "# Initialize AWS Clients\n",
        "s3_client = boto3.client(\"s3\", region_name=aws_region)\n",
        "bedrock_client = boto3.client(\"bedrock-runtime\", region_name=aws_region)\n",
        "\n",
        "# S3 Bucket and File\n",
        "S3_BUCKET = \"my-travel-knowledge\"\n",
        "S3_FILE_KEY = \"travel_guide.json\"\n",
        "\n",
        "def check_s3_file():\n",
        "    \"\"\"Check if the knowledge base file exists in S3\"\"\"\n",
        "    try:\n",
        "        response = s3_client.list_objects_v2(Bucket=S3_BUCKET)\n",
        "        if \"Contents\" in response:\n",
        "            for obj in response[\"Contents\"]:\n",
        "                if obj[\"Key\"] == S3_FILE_KEY:\n",
        "                    return True\n",
        "        print(f\"⚠️ File {S3_FILE_KEY} NOT found in S3 bucket `{S3_BUCKET}`.\")\n",
        "        return False\n",
        "    except ClientError as e:\n",
        "        print(f\"❌ Error checking S3: {e}\")\n",
        "        return False\n",
        "\n",
        "def fetch_knowledge_from_s3():\n",
        "    \"\"\"Retrieve travel data from S3\"\"\"\n",
        "    try:\n",
        "        response = s3_client.get_object(Bucket=S3_BUCKET, Key=S3_FILE_KEY)\n",
        "        travel_data = json.loads(response[\"Body\"].read().decode(\"utf-8\"))\n",
        "        return travel_data\n",
        "    except NoCredentialsError:\n",
        "        print(\"❌ AWS credentials not found!\")\n",
        "        return []\n",
        "    except ClientError as e:\n",
        "        print(f\"❌ Error fetching knowledge base: {e}\")\n",
        "        return []\n",
        "\n",
        "def retrieve_travel_info(destination, travel_guide):\n",
        "    \"\"\"Retrieve relevant travel information from S3 knowledge base\"\"\"\n",
        "    for entry in travel_guide:\n",
        "        if destination.lower() in entry[\"destination\"].lower():\n",
        "            return entry  # Return matching travel info\n",
        "    return None  # No relevant info found\n",
        "\n",
        "def format_travel_info(travel_info):\n",
        "    \"\"\"Format travel information for AI model\"\"\"\n",
        "    return f\"\"\"\n",
        "    **Destination:** {travel_info['destination']}\n",
        "    **Top Attractions:** {', '.join(travel_info['attractions'])}\n",
        "    **Best Time to Visit:** {travel_info['best_time']}\n",
        "    **Local Food to Try:** {', '.join(travel_info['local_food'])}\n",
        "    **Travel Tips:** {travel_info['tips']}\n",
        "    \"\"\"\n",
        "\n",
        "def query_bedrock(prompt):\n",
        "    \"\"\"Query Amazon Bedrock with the correct prompt format for Claude\"\"\"\n",
        "    formatted_prompt = f'\\n\\nHuman: {prompt}\\n\\nAssistant:'  # 👈 Add 'Human:' prefix\n",
        "\n",
        "    try:\n",
        "        response = bedrock_client.invoke_model(\n",
        "            modelId=\"anthropic.claude-instant-v1\",  # Change model if needed\n",
        "            body=json.dumps({\n",
        "                \"prompt\": formatted_prompt,\n",
        "                \"max_tokens_to_sample\": 250  # Adjust token limit\n",
        "            })\n",
        "        )\n",
        "        result = json.loads(response[\"body\"].read().decode(\"utf-8\"))\n",
        "        return result.get(\"completion\", \"No response from model\")\n",
        "    except ClientError as e:\n",
        "        print(f\"❌ Error calling Bedrock: {e}\")\n",
        "        return \"Error in Bedrock call.\"\n",
        "\n",
        "def main():\n",
        "    \"\"\"Main workflow for Travel Guide Chatbot\"\"\"\n",
        "    user_query = \"Tell me the best places to visit in Paris.\"\n",
        "    destination = \"Paris\"  # Extracted from query (can be automated later)\n",
        "\n",
        "    # Step 1: Check if the S3 knowledge base exists\n",
        "    if not check_s3_file():\n",
        "        return\n",
        "\n",
        "    # Step 2: Fetch travel data from S3\n",
        "    travel_guide = fetch_knowledge_from_s3()\n",
        "\n",
        "    # Step 3: Retrieve relevant travel information\n",
        "    travel_info = retrieve_travel_info(destination, travel_guide)\n",
        "\n",
        "    if travel_info:\n",
        "        retrieved_context = format_travel_info(travel_info)\n",
        "    else:\n",
        "        retrieved_context = \"No relevant travel information found.\"\n",
        "\n",
        "    # Step 4: Create prompts for Bedrock\n",
        "    vanilla_prompt = f\"Tell me the best places to visit in {destination}.\"\n",
        "    rag_prompt = f\"Using the following travel information:\\n{retrieved_context}\\n\\nAnswer this: What are the best places to visit in {destination}?\"\n",
        "\n",
        "    # Step 5: Query Bedrock\n",
        "    response_vanilla = query_bedrock(vanilla_prompt)\n",
        "    response_rag = query_bedrock(rag_prompt)\n",
        "\n",
        "    # Step 6: Display results\n",
        "    print(\"\\n🔹 **Vanilla Bedrock Response:**\")\n",
        "    print(response_vanilla)\n",
        "    print(\"\\n🔹 **RAG-Enhanced Response (Using S3):**\")\n",
        "    print(response_rag)\n",
        "\n",
        "if __name__ == \"__main__\":\n",
        "    main()\n"
      ]
    },
    {
      "cell_type": "code",
      "source": [],
      "metadata": {
        "id": "BKuqAzjcaKUd"
      },
      "execution_count": null,
      "outputs": []
    }
  ]
}