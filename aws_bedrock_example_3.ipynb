{
  "nbformat": 4,
  "nbformat_minor": 0,
  "metadata": {
    "colab": {
      "provenance": [],
      "authorship_tag": "ABX9TyNE9LNwArtsG0K1elF4kiU2",
      "include_colab_link": true
    },
    "kernelspec": {
      "name": "python3",
      "display_name": "Python 3"
    },
    "language_info": {
      "name": "python"
    }
  },
  "cells": [
    {
      "cell_type": "markdown",
      "metadata": {
        "id": "view-in-github",
        "colab_type": "text"
      },
      "source": [
        "<a href=\"https://colab.research.google.com/github/mspendyala/aws_bedrock_samples/blob/main/aws_bedrock_example_3.ipynb\" target=\"_parent\"><img src=\"https://colab.research.google.com/assets/colab-badge.svg\" alt=\"Open In Colab\"/></a>"
      ]
    },
    {
      "cell_type": "code",
      "source": [
        "import os\n",
        "\n",
        "# Replace with your AWS credentials (use temporary credentials if possible)\n",
        "os.environ[\"AWS_ACCESS_KEY_ID\"] = \"\"\n",
        "os.environ[\"AWS_SECRET_ACCESS_KEY\"] = \"\"\n",
        "os.environ[\"AWS_REGION\"] = \"us-east-1\"\n",
        "\n",
        "print(\"AWS credentials configured securely in Colab!\")"
      ],
      "metadata": {
        "colab": {
          "base_uri": "https://localhost:8080/"
        },
        "id": "rHrcaSlldviN",
        "outputId": "be5ae47c-1c39-4d98-d7fa-6b1379885f33"
      },
      "execution_count": 3,
      "outputs": [
        {
          "output_type": "stream",
          "name": "stdout",
          "text": [
            "AWS credentials configured securely in Colab!\n"
          ]
        }
      ]
    },
    {
      "cell_type": "code",
      "source": [
        "!pip install boto3"
      ],
      "metadata": {
        "colab": {
          "base_uri": "https://localhost:8080/"
        },
        "id": "pxBtWt4kdktO",
        "outputId": "fdd7ab17-391d-4edf-e671-e63de5159a3e"
      },
      "execution_count": 2,
      "outputs": [
        {
          "output_type": "stream",
          "name": "stdout",
          "text": [
            "Collecting boto3\n",
            "  Downloading boto3-1.36.23-py3-none-any.whl.metadata (6.7 kB)\n",
            "Collecting botocore<1.37.0,>=1.36.23 (from boto3)\n",
            "  Downloading botocore-1.36.23-py3-none-any.whl.metadata (5.7 kB)\n",
            "Collecting jmespath<2.0.0,>=0.7.1 (from boto3)\n",
            "  Downloading jmespath-1.0.1-py3-none-any.whl.metadata (7.6 kB)\n",
            "Collecting s3transfer<0.12.0,>=0.11.0 (from boto3)\n",
            "  Downloading s3transfer-0.11.2-py3-none-any.whl.metadata (1.7 kB)\n",
            "Requirement already satisfied: python-dateutil<3.0.0,>=2.1 in /usr/local/lib/python3.11/dist-packages (from botocore<1.37.0,>=1.36.23->boto3) (2.8.2)\n",
            "Requirement already satisfied: urllib3!=2.2.0,<3,>=1.25.4 in /usr/local/lib/python3.11/dist-packages (from botocore<1.37.0,>=1.36.23->boto3) (2.3.0)\n",
            "Requirement already satisfied: six>=1.5 in /usr/local/lib/python3.11/dist-packages (from python-dateutil<3.0.0,>=2.1->botocore<1.37.0,>=1.36.23->boto3) (1.17.0)\n",
            "Downloading boto3-1.36.23-py3-none-any.whl (139 kB)\n",
            "\u001b[2K   \u001b[90m━━━━━━━━━━━━━━━━━━━━━━━━━━━━━━━━━━━━━━━━\u001b[0m \u001b[32m139.2/139.2 kB\u001b[0m \u001b[31m2.9 MB/s\u001b[0m eta \u001b[36m0:00:00\u001b[0m\n",
            "\u001b[?25hDownloading botocore-1.36.23-py3-none-any.whl (13.4 MB)\n",
            "\u001b[2K   \u001b[90m━━━━━━━━━━━━━━━━━━━━━━━━━━━━━━━━━━━━━━━━\u001b[0m \u001b[32m13.4/13.4 MB\u001b[0m \u001b[31m123.5 MB/s\u001b[0m eta \u001b[36m0:00:00\u001b[0m\n",
            "\u001b[?25hDownloading jmespath-1.0.1-py3-none-any.whl (20 kB)\n",
            "Downloading s3transfer-0.11.2-py3-none-any.whl (84 kB)\n",
            "\u001b[2K   \u001b[90m━━━━━━━━━━━━━━━━━━━━━━━━━━━━━━━━━━━━━━━━\u001b[0m \u001b[32m84.2/84.2 kB\u001b[0m \u001b[31m8.0 MB/s\u001b[0m eta \u001b[36m0:00:00\u001b[0m\n",
            "\u001b[?25hInstalling collected packages: jmespath, botocore, s3transfer, boto3\n",
            "Successfully installed boto3-1.36.23 botocore-1.36.23 jmespath-1.0.1 s3transfer-0.11.2\n"
          ]
        }
      ]
    },
    {
      "cell_type": "code",
      "execution_count": 5,
      "metadata": {
        "colab": {
          "base_uri": "https://localhost:8080/"
        },
        "id": "IMNGSLSodgyJ",
        "outputId": "f4f49324-f8dd-4874-8923-8b55c85d7543"
      },
      "outputs": [
        {
          "output_type": "stream",
          "name": "stdout",
          "text": [
            "\n",
            "🔹 **Vanilla Bedrock Response:**\n",
            " Here are the basic steps to enable Autopilot in a Tesla, but keep in mind that actual functionality and requirements may vary depending on the specific vehicle model and version of the Autopilot software:\n",
            "\n",
            "1. Make sure your vehicle is equipped with Autopilot hardware. This includes cameras mounted around the car, radar sensors, and other components. Newer Tesla models come standard with Autopilot, but it may need to be purchased as an add-on for some older models.\n",
            "\n",
            "2. Ensure your Tesla account shows that you have purchased or leased a vehicle with the Autopilot feature enabled. You'll generally need to pay an additional fee to get access to Autopilot. \n",
            "\n",
            "3. Update your Tesla to the latest version of the Autopilot software. Over-the-air software updates are required for new Autopilot features.\n",
            "\n",
            "4. Familiarize yourself with how to engage Autopilot by watching the onboard tutorials or Tesla's website guides. You'll typically use the Autopilot engagement buttons on the steering wheel.\n",
            "\n",
            "5. Only engage Autopilot when conditions are safe to do so. You must keep your hands on the wheel and be readily prepared to take control at all times since Autopilot does not\n",
            "\n",
            "🔹 **RAG-Enhanced Response (Using S3):**\n",
            " To enable Autopilot in your Tesla, you need to go to the Controls menu, select Autopilot, and enable the feature there. It's important to keep your hands on the steering wheel when Autopilot is engaged.\n"
          ]
        }
      ],
      "source": [
        "import boto3\n",
        "import json\n",
        "import os\n",
        "from botocore.exceptions import NoCredentialsError, ClientError\n",
        "\n",
        "# Load AWS credentials from environment variables (Google Colab or local)\n",
        "aws_access_key = os.getenv(\"AWS_ACCESS_KEY_ID\")\n",
        "aws_secret_key = os.getenv(\"AWS_SECRET_ACCESS_KEY\")\n",
        "aws_session_token = os.getenv(\"AWS_SESSION_TOKEN\")\n",
        "aws_region = os.getenv(\"AWS_REGION\", \"us-east-1\")\n",
        "\n",
        "# Initialize AWS Clients\n",
        "s3_client = boto3.client(\"s3\", region_name=aws_region)\n",
        "bedrock_client = boto3.client(\"bedrock-runtime\", region_name=aws_region)\n",
        "\n",
        "# S3 Bucket and File\n",
        "S3_BUCKET = \"tesla-support-bot\"\n",
        "S3_FILE_KEY = \"tesla_support.json\"\n",
        "\n",
        "def check_s3_file():\n",
        "    \"\"\"Check if the knowledge base file exists in S3\"\"\"\n",
        "    try:\n",
        "        response = s3_client.list_objects_v2(Bucket=S3_BUCKET)\n",
        "        if \"Contents\" in response:\n",
        "            for obj in response[\"Contents\"]:\n",
        "                if obj[\"Key\"] == S3_FILE_KEY:\n",
        "                    return True\n",
        "        print(f\"⚠️ File {S3_FILE_KEY} NOT found in S3 bucket `{S3_BUCKET}`.\")\n",
        "        return False\n",
        "    except ClientError as e:\n",
        "        print(f\"❌ Error checking S3: {e}\")\n",
        "        return False\n",
        "\n",
        "def fetch_faq_from_s3():\n",
        "    \"\"\"Retrieve Tesla support FAQs from S3\"\"\"\n",
        "    try:\n",
        "        response = s3_client.get_object(Bucket=S3_BUCKET, Key=S3_FILE_KEY)\n",
        "        faq_data = json.loads(response[\"Body\"].read().decode(\"utf-8\"))\n",
        "        return faq_data\n",
        "    except NoCredentialsError:\n",
        "        print(\"❌ AWS credentials not found!\")\n",
        "        return []\n",
        "    except ClientError as e:\n",
        "        print(f\"❌ Error fetching knowledge base: {e}\")\n",
        "        return []\n",
        "\n",
        "def retrieve_faq_answer(user_question, faq_data):\n",
        "    \"\"\"Retrieve the best-matching FAQ from the knowledge base\"\"\"\n",
        "    for entry in faq_data:\n",
        "        if user_question.lower() in entry[\"question\"].lower():\n",
        "            return entry[\"answer\"]\n",
        "    return \"No relevant answer found.\"\n",
        "\n",
        "def query_bedrock(prompt):\n",
        "    \"\"\"Query Amazon Bedrock with the correct prompt format for Claude\"\"\"\n",
        "    formatted_prompt = f'\\n\\nHuman: {prompt}\\n\\nAssistant:'  # 👈 Add 'Human:' prefix\n",
        "\n",
        "    try:\n",
        "        response = bedrock_client.invoke_model(\n",
        "            modelId=\"anthropic.claude-instant-v1\",  # Change model if needed\n",
        "            body=json.dumps({\n",
        "                \"prompt\": formatted_prompt,\n",
        "                \"max_tokens_to_sample\": 250  # Adjust token limit\n",
        "            })\n",
        "        )\n",
        "        result = json.loads(response[\"body\"].read().decode(\"utf-8\"))\n",
        "        return result.get(\"completion\", \"No response from model\")\n",
        "    except ClientError as e:\n",
        "        print(f\"❌ Error calling Bedrock: {e}\")\n",
        "        return \"Error in Bedrock call.\"\n",
        "\n",
        "def main():\n",
        "    \"\"\"Main workflow for Tesla Support Chatbot\"\"\"\n",
        "    user_query = \"How do I enable Autopilot in my Tesla?\"\n",
        "\n",
        "    # Step 1: Check if the S3 knowledge base exists\n",
        "    if not check_s3_file():\n",
        "        return\n",
        "\n",
        "    # Step 2: Fetch Tesla support FAQs from S3\n",
        "    faq_data = fetch_faq_from_s3()\n",
        "\n",
        "    # Step 3: Retrieve relevant FAQ answer\n",
        "    retrieved_answer = retrieve_faq_answer(user_query, faq_data)\n",
        "\n",
        "    # Step 4: Create prompts for Bedrock\n",
        "    vanilla_prompt = f\"How do I enable Autopilot in my Tesla?\"\n",
        "    rag_prompt = f\"Using the following product support information:\\n{retrieved_answer}\\n\\nAnswer this: {user_query}\"\n",
        "\n",
        "    # Step 5: Query Bedrock\n",
        "    response_vanilla = query_bedrock(vanilla_prompt)\n",
        "    response_rag = query_bedrock(rag_prompt)\n",
        "\n",
        "    # Step 6: Display results\n",
        "    print(\"\\n🔹 **Vanilla Bedrock Response:**\")\n",
        "    print(response_vanilla)\n",
        "    print(\"\\n🔹 **RAG-Enhanced Response (Using S3):**\")\n",
        "    print(response_rag)\n",
        "\n",
        "if __name__ == \"__main__\":\n",
        "    main()\n"
      ]
    },
    {
      "cell_type": "code",
      "source": [],
      "metadata": {
        "id": "7j4CVKXFdinr"
      },
      "execution_count": null,
      "outputs": []
    }
  ]
}